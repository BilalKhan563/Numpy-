{
 "cells": [
  {
   "cell_type": "code",
   "execution_count": 2,
   "id": "9b7ba2d8",
   "metadata": {},
   "outputs": [],
   "source": [
    "import numpy as np"
   ]
  },
  {
   "cell_type": "code",
   "execution_count": 3,
   "id": "8391e705",
   "metadata": {},
   "outputs": [],
   "source": [
    "array1d = np.array([1,2,3])"
   ]
  },
  {
   "cell_type": "code",
   "execution_count": 4,
   "id": "a6336058",
   "metadata": {},
   "outputs": [
    {
     "data": {
      "text/plain": [
       "array([1, 2, 3])"
      ]
     },
     "execution_count": 4,
     "metadata": {},
     "output_type": "execute_result"
    }
   ],
   "source": [
    "# 1D Array = also known as VECTOR\n",
    "array1d "
   ]
  },
  {
   "cell_type": "code",
   "execution_count": 5,
   "id": "d061e7bc",
   "metadata": {},
   "outputs": [
    {
     "data": {
      "text/plain": [
       "numpy.ndarray"
      ]
     },
     "execution_count": 5,
     "metadata": {},
     "output_type": "execute_result"
    }
   ],
   "source": [
    "type(array1d)"
   ]
  },
  {
   "cell_type": "code",
   "execution_count": 6,
   "id": "1ccb0f98",
   "metadata": {},
   "outputs": [],
   "source": [
    "array2d = np.array([[1,2,3],[4,5,6]]) "
   ]
  },
  {
   "cell_type": "code",
   "execution_count": 7,
   "id": "d1b6fc00",
   "metadata": {},
   "outputs": [
    {
     "data": {
      "text/plain": [
       "array([[1, 2, 3],\n",
       "       [4, 5, 6]])"
      ]
     },
     "execution_count": 7,
     "metadata": {},
     "output_type": "execute_result"
    }
   ],
   "source": [
    "# 2D Array = also known as MATRIX\n",
    "array2d"
   ]
  },
  {
   "cell_type": "code",
   "execution_count": 8,
   "id": "db563ccd",
   "metadata": {},
   "outputs": [],
   "source": [
    "array3d = np.array([[[1,2,3],[4,5,6],[7,8,9]], [[1,2,3],[4,5,6],[7,8,9]]])"
   ]
  },
  {
   "cell_type": "code",
   "execution_count": 9,
   "id": "c7b05377",
   "metadata": {},
   "outputs": [
    {
     "data": {
      "text/plain": [
       "array([[[1, 2, 3],\n",
       "        [4, 5, 6],\n",
       "        [7, 8, 9]],\n",
       "\n",
       "       [[1, 2, 3],\n",
       "        [4, 5, 6],\n",
       "        [7, 8, 9]]])"
      ]
     },
     "execution_count": 9,
     "metadata": {},
     "output_type": "execute_result"
    }
   ],
   "source": [
    "array3d"
   ]
  },
  {
   "cell_type": "code",
   "execution_count": 10,
   "id": "0c8207ea",
   "metadata": {},
   "outputs": [
    {
     "data": {
      "text/plain": [
       "(2, 3, 3)"
      ]
     },
     "execution_count": 10,
     "metadata": {},
     "output_type": "execute_result"
    }
   ],
   "source": [
    "array3d.shape "
   ]
  },
  {
   "cell_type": "code",
   "execution_count": 11,
   "id": "3dffa914",
   "metadata": {},
   "outputs": [
    {
     "data": {
      "text/plain": [
       "(2, 3)"
      ]
     },
     "execution_count": 11,
     "metadata": {},
     "output_type": "execute_result"
    }
   ],
   "source": [
    "array2d.shape "
   ]
  },
  {
   "cell_type": "code",
   "execution_count": 12,
   "id": "6c8dbbe0",
   "metadata": {},
   "outputs": [
    {
     "data": {
      "text/plain": [
       "(3,)"
      ]
     },
     "execution_count": 12,
     "metadata": {},
     "output_type": "execute_result"
    }
   ],
   "source": [
    "array1d.shape "
   ]
  },
  {
   "cell_type": "code",
   "execution_count": 13,
   "id": "6315395e",
   "metadata": {},
   "outputs": [],
   "source": [
    "a4d = np.array([[[[1,2,3],[4,5,6],[7,8,9],[10,11,12]], [[1,2,3],[4,5,6],[7,8,9],[10,11,12]]],[[[1,2,3],[4,5,6],[7,8,9],[10,11,12]], [[1,2,3],[4,5,6],[7,8,9],[10,11,12]]]])"
   ]
  },
  {
   "cell_type": "code",
   "execution_count": 14,
   "id": "3bf22233",
   "metadata": {},
   "outputs": [
    {
     "data": {
      "text/plain": [
       "array([[[[ 1,  2,  3],\n",
       "         [ 4,  5,  6],\n",
       "         [ 7,  8,  9],\n",
       "         [10, 11, 12]],\n",
       "\n",
       "        [[ 1,  2,  3],\n",
       "         [ 4,  5,  6],\n",
       "         [ 7,  8,  9],\n",
       "         [10, 11, 12]]],\n",
       "\n",
       "\n",
       "       [[[ 1,  2,  3],\n",
       "         [ 4,  5,  6],\n",
       "         [ 7,  8,  9],\n",
       "         [10, 11, 12]],\n",
       "\n",
       "        [[ 1,  2,  3],\n",
       "         [ 4,  5,  6],\n",
       "         [ 7,  8,  9],\n",
       "         [10, 11, 12]]]])"
      ]
     },
     "execution_count": 14,
     "metadata": {},
     "output_type": "execute_result"
    }
   ],
   "source": [
    "a4d"
   ]
  },
  {
   "cell_type": "code",
   "execution_count": 15,
   "id": "ca8d01df",
   "metadata": {},
   "outputs": [
    {
     "data": {
      "text/plain": [
       "(2, 2, 4, 3)"
      ]
     },
     "execution_count": 15,
     "metadata": {},
     "output_type": "execute_result"
    }
   ],
   "source": [
    "a4d.shape"
   ]
  },
  {
   "cell_type": "code",
   "execution_count": 16,
   "id": "ae92f306",
   "metadata": {},
   "outputs": [
    {
     "data": {
      "text/plain": [
       "4"
      ]
     },
     "execution_count": 16,
     "metadata": {},
     "output_type": "execute_result"
    }
   ],
   "source": [
    "a4d.ndim"
   ]
  },
  {
   "cell_type": "code",
   "execution_count": 17,
   "id": "ffdb117d",
   "metadata": {},
   "outputs": [
    {
     "data": {
      "text/plain": [
       "3"
      ]
     },
     "execution_count": 17,
     "metadata": {},
     "output_type": "execute_result"
    }
   ],
   "source": [
    "array3d.ndim"
   ]
  },
  {
   "cell_type": "code",
   "execution_count": 18,
   "id": "5665a0d6",
   "metadata": {},
   "outputs": [
    {
     "data": {
      "text/plain": [
       "2"
      ]
     },
     "execution_count": 18,
     "metadata": {},
     "output_type": "execute_result"
    }
   ],
   "source": [
    "array2d.ndim"
   ]
  },
  {
   "cell_type": "code",
   "execution_count": 19,
   "id": "e448608a",
   "metadata": {},
   "outputs": [
    {
     "data": {
      "text/plain": [
       "dtype('int32')"
      ]
     },
     "execution_count": 19,
     "metadata": {},
     "output_type": "execute_result"
    }
   ],
   "source": [
    "array3d.dtype"
   ]
  },
  {
   "cell_type": "code",
   "execution_count": 20,
   "id": "cf775d84",
   "metadata": {},
   "outputs": [
    {
     "data": {
      "text/plain": [
       "dtype('int32')"
      ]
     },
     "execution_count": 20,
     "metadata": {},
     "output_type": "execute_result"
    }
   ],
   "source": [
    "a4d.dtype"
   ]
  },
  {
   "cell_type": "code",
   "execution_count": 21,
   "id": "01fd4057",
   "metadata": {},
   "outputs": [
    {
     "data": {
      "text/plain": [
       "18"
      ]
     },
     "execution_count": 21,
     "metadata": {},
     "output_type": "execute_result"
    }
   ],
   "source": [
    "array3d.size"
   ]
  },
  {
   "cell_type": "code",
   "execution_count": 22,
   "id": "1800beef",
   "metadata": {},
   "outputs": [
    {
     "data": {
      "text/plain": [
       "48"
      ]
     },
     "execution_count": 22,
     "metadata": {},
     "output_type": "execute_result"
    }
   ],
   "source": [
    "a4d.size"
   ]
  },
  {
   "cell_type": "code",
   "execution_count": 23,
   "id": "3b3cf798",
   "metadata": {},
   "outputs": [
    {
     "data": {
      "text/plain": [
       "numpy.ndarray"
      ]
     },
     "execution_count": 23,
     "metadata": {},
     "output_type": "execute_result"
    }
   ],
   "source": [
    "type(array3d)"
   ]
  },
  {
   "cell_type": "code",
   "execution_count": 24,
   "id": "607aaac0",
   "metadata": {},
   "outputs": [],
   "source": [
    "import pandas as pd"
   ]
  },
  {
   "cell_type": "code",
   "execution_count": 25,
   "id": "eaa1744b",
   "metadata": {},
   "outputs": [],
   "source": [
    "df = pd.DataFrame(array2d)"
   ]
  },
  {
   "cell_type": "code",
   "execution_count": 26,
   "id": "cce19407",
   "metadata": {},
   "outputs": [
    {
     "data": {
      "text/html": [
       "<div>\n",
       "<style scoped>\n",
       "    .dataframe tbody tr th:only-of-type {\n",
       "        vertical-align: middle;\n",
       "    }\n",
       "\n",
       "    .dataframe tbody tr th {\n",
       "        vertical-align: top;\n",
       "    }\n",
       "\n",
       "    .dataframe thead th {\n",
       "        text-align: right;\n",
       "    }\n",
       "</style>\n",
       "<table border=\"1\" class=\"dataframe\">\n",
       "  <thead>\n",
       "    <tr style=\"text-align: right;\">\n",
       "      <th></th>\n",
       "      <th>0</th>\n",
       "      <th>1</th>\n",
       "      <th>2</th>\n",
       "    </tr>\n",
       "  </thead>\n",
       "  <tbody>\n",
       "    <tr>\n",
       "      <th>0</th>\n",
       "      <td>1</td>\n",
       "      <td>2</td>\n",
       "      <td>3</td>\n",
       "    </tr>\n",
       "    <tr>\n",
       "      <th>1</th>\n",
       "      <td>4</td>\n",
       "      <td>5</td>\n",
       "      <td>6</td>\n",
       "    </tr>\n",
       "  </tbody>\n",
       "</table>\n",
       "</div>"
      ],
      "text/plain": [
       "   0  1  2\n",
       "0  1  2  3\n",
       "1  4  5  6"
      ]
     },
     "execution_count": 26,
     "metadata": {},
     "output_type": "execute_result"
    }
   ],
   "source": [
    "df"
   ]
  },
  {
   "cell_type": "markdown",
   "id": "eb5364df",
   "metadata": {},
   "source": [
    "\n",
    "# Creating Numpy Array"
   ]
  },
  {
   "cell_type": "code",
   "execution_count": 27,
   "id": "a1fcd4d5",
   "metadata": {},
   "outputs": [],
   "source": [
    "test_array = np.array([1,2,3])"
   ]
  },
  {
   "cell_type": "code",
   "execution_count": 28,
   "id": "3f883f8b",
   "metadata": {},
   "outputs": [
    {
     "data": {
      "text/plain": [
       "array([1, 2, 3])"
      ]
     },
     "execution_count": 28,
     "metadata": {},
     "output_type": "execute_result"
    }
   ],
   "source": [
    "test_array"
   ]
  },
  {
   "cell_type": "code",
   "execution_count": 29,
   "id": "e7f5a13a",
   "metadata": {},
   "outputs": [],
   "source": [
    "# zeros\n",
    "# Ones\n",
    "# Randoms\n",
    "## Size = dimension of matrix"
   ]
  },
  {
   "cell_type": "code",
   "execution_count": 30,
   "id": "d72b20c2",
   "metadata": {},
   "outputs": [],
   "source": [
    "one = np.ones((2,3))"
   ]
  },
  {
   "cell_type": "code",
   "execution_count": 31,
   "id": "10e8b039",
   "metadata": {},
   "outputs": [
    {
     "data": {
      "text/plain": [
       "array([[1., 1., 1.],\n",
       "       [1., 1., 1.]])"
      ]
     },
     "execution_count": 31,
     "metadata": {},
     "output_type": "execute_result"
    }
   ],
   "source": [
    "one"
   ]
  },
  {
   "cell_type": "code",
   "execution_count": 32,
   "id": "3fcde300",
   "metadata": {},
   "outputs": [
    {
     "data": {
      "text/plain": [
       "dtype('float64')"
      ]
     },
     "execution_count": 32,
     "metadata": {},
     "output_type": "execute_result"
    }
   ],
   "source": [
    "one.dtype"
   ]
  },
  {
   "cell_type": "code",
   "execution_count": 33,
   "id": "f58f0a23",
   "metadata": {},
   "outputs": [],
   "source": [
    "zero = np.zeros((2,3))"
   ]
  },
  {
   "cell_type": "code",
   "execution_count": 34,
   "id": "61722ce5",
   "metadata": {},
   "outputs": [
    {
     "data": {
      "text/plain": [
       "array([[0., 0., 0.],\n",
       "       [0., 0., 0.]])"
      ]
     },
     "execution_count": 34,
     "metadata": {},
     "output_type": "execute_result"
    }
   ],
   "source": [
    "zero"
   ]
  },
  {
   "cell_type": "code",
   "execution_count": 35,
   "id": "90d6be1f",
   "metadata": {},
   "outputs": [],
   "source": [
    "range_array = np.arange(0,12,2)    # (start,stop,stepsize )"
   ]
  },
  {
   "cell_type": "code",
   "execution_count": 36,
   "id": "3e50b26c",
   "metadata": {},
   "outputs": [
    {
     "data": {
      "text/plain": [
       "array([ 0,  2,  4,  6,  8, 10])"
      ]
     },
     "execution_count": 36,
     "metadata": {},
     "output_type": "execute_result"
    }
   ],
   "source": [
    "range_array "
   ]
  },
  {
   "cell_type": "code",
   "execution_count": 37,
   "id": "99b466e1",
   "metadata": {},
   "outputs": [],
   "source": [
    "random_matrix = np.random.randint(0,10,size=(3,5))# Manual Range    ##(start,stop, size=(3,5))"
   ]
  },
  {
   "cell_type": "code",
   "execution_count": 38,
   "id": "8478b16f",
   "metadata": {},
   "outputs": [
    {
     "data": {
      "text/plain": [
       "array([[8, 8, 6, 9, 5],\n",
       "       [9, 5, 8, 2, 6],\n",
       "       [6, 2, 3, 8, 9]])"
      ]
     },
     "execution_count": 38,
     "metadata": {},
     "output_type": "execute_result"
    }
   ],
   "source": [
    "random_matrix "
   ]
  },
  {
   "cell_type": "code",
   "execution_count": 39,
   "id": "fa3afe71",
   "metadata": {},
   "outputs": [
    {
     "data": {
      "text/plain": [
       "15"
      ]
     },
     "execution_count": 39,
     "metadata": {},
     "output_type": "execute_result"
    }
   ],
   "source": [
    "random_matrix.size"
   ]
  },
  {
   "cell_type": "code",
   "execution_count": 40,
   "id": "27246458",
   "metadata": {},
   "outputs": [
    {
     "data": {
      "text/plain": [
       "(3, 5)"
      ]
     },
     "execution_count": 40,
     "metadata": {},
     "output_type": "execute_result"
    }
   ],
   "source": [
    "random_matrix.shape"
   ]
  },
  {
   "cell_type": "code",
   "execution_count": 41,
   "id": "f7b3f8c4",
   "metadata": {},
   "outputs": [],
   "source": [
    "rand_matrix = np.random.rand(3,5) # Auto Range"
   ]
  },
  {
   "cell_type": "code",
   "execution_count": 42,
   "id": "4c6ad8a1",
   "metadata": {},
   "outputs": [
    {
     "data": {
      "text/plain": [
       "array([[0.74007504, 0.1435685 , 0.6792928 , 0.11333203, 0.57058885],\n",
       "       [0.02939061, 0.51703239, 0.69417441, 0.23372335, 0.4626482 ],\n",
       "       [0.87602902, 0.05979808, 0.97523802, 0.87081241, 0.71584892]])"
      ]
     },
     "execution_count": 42,
     "metadata": {},
     "output_type": "execute_result"
    }
   ],
   "source": [
    "rand_matrix"
   ]
  },
  {
   "cell_type": "code",
   "execution_count": 43,
   "id": "24ae01d0",
   "metadata": {},
   "outputs": [
    {
     "data": {
      "text/plain": [
       "7.681552635690827"
      ]
     },
     "execution_count": 43,
     "metadata": {},
     "output_type": "execute_result"
    }
   ],
   "source": [
    "rand_matrix.sum()"
   ]
  },
  {
   "cell_type": "code",
   "execution_count": 44,
   "id": "5c5b5f4c",
   "metadata": {},
   "outputs": [],
   "source": [
    "# Seed # To fix the sum\n",
    "np.random.seed(seed=0)\n",
    "raand_matrix = np.random.rand(3,5) "
   ]
  },
  {
   "cell_type": "raw",
   "id": "9a16dfe2",
   "metadata": {},
   "source": [
    "raand_matrix"
   ]
  },
  {
   "cell_type": "code",
   "execution_count": 45,
   "id": "6eaf563a",
   "metadata": {},
   "outputs": [
    {
     "data": {
      "text/plain": [
       "9.042960048565472"
      ]
     },
     "execution_count": 45,
     "metadata": {},
     "output_type": "execute_result"
    }
   ],
   "source": [
    "raand_matrix.sum()"
   ]
  },
  {
   "cell_type": "markdown",
   "id": "c76dd157",
   "metadata": {},
   "source": [
    "## Accessing Elements"
   ]
  },
  {
   "cell_type": "code",
   "execution_count": 46,
   "id": "6e9b5915",
   "metadata": {},
   "outputs": [
    {
     "data": {
      "text/plain": [
       "array([[[1, 2, 3],\n",
       "        [4, 5, 6],\n",
       "        [7, 8, 9]],\n",
       "\n",
       "       [[1, 2, 3],\n",
       "        [4, 5, 6],\n",
       "        [7, 8, 9]]])"
      ]
     },
     "execution_count": 46,
     "metadata": {},
     "output_type": "execute_result"
    }
   ],
   "source": [
    "array3d"
   ]
  },
  {
   "cell_type": "code",
   "execution_count": 47,
   "id": "0f0a6696",
   "metadata": {},
   "outputs": [
    {
     "data": {
      "text/plain": [
       "array([[1, 2, 3],\n",
       "       [4, 5, 6]])"
      ]
     },
     "execution_count": 47,
     "metadata": {},
     "output_type": "execute_result"
    }
   ],
   "source": [
    "array2d"
   ]
  },
  {
   "cell_type": "code",
   "execution_count": 48,
   "id": "e3ff1809",
   "metadata": {},
   "outputs": [
    {
     "data": {
      "text/plain": [
       "array([1, 2, 3])"
      ]
     },
     "execution_count": 48,
     "metadata": {},
     "output_type": "execute_result"
    }
   ],
   "source": [
    "array2d[0]"
   ]
  },
  {
   "cell_type": "code",
   "execution_count": 49,
   "id": "cab73a1a",
   "metadata": {},
   "outputs": [
    {
     "data": {
      "text/plain": [
       "array([4, 5, 6])"
      ]
     },
     "execution_count": 49,
     "metadata": {},
     "output_type": "execute_result"
    }
   ],
   "source": [
    "array2d[1]"
   ]
  },
  {
   "cell_type": "code",
   "execution_count": 50,
   "id": "6416a6b6",
   "metadata": {},
   "outputs": [
    {
     "data": {
      "text/plain": [
       "array([[[1, 2, 3],\n",
       "        [4, 5, 6],\n",
       "        [7, 8, 9]],\n",
       "\n",
       "       [[1, 2, 3],\n",
       "        [4, 5, 6],\n",
       "        [7, 8, 9]]])"
      ]
     },
     "execution_count": 50,
     "metadata": {},
     "output_type": "execute_result"
    }
   ],
   "source": [
    "array3d"
   ]
  },
  {
   "cell_type": "code",
   "execution_count": 51,
   "id": "69ee2d53",
   "metadata": {},
   "outputs": [
    {
     "data": {
      "text/plain": [
       "array([[1, 2, 3],\n",
       "       [4, 5, 6],\n",
       "       [7, 8, 9]])"
      ]
     },
     "execution_count": 51,
     "metadata": {},
     "output_type": "execute_result"
    }
   ],
   "source": [
    "array3d[0]"
   ]
  },
  {
   "cell_type": "code",
   "execution_count": 52,
   "id": "e1c0c26e",
   "metadata": {},
   "outputs": [
    {
     "data": {
      "text/plain": [
       "array([[1, 2, 3],\n",
       "       [4, 5, 6],\n",
       "       [7, 8, 9]])"
      ]
     },
     "execution_count": 52,
     "metadata": {},
     "output_type": "execute_result"
    }
   ],
   "source": [
    "array3d[1]"
   ]
  },
  {
   "cell_type": "code",
   "execution_count": 53,
   "id": "461d73fc",
   "metadata": {},
   "outputs": [
    {
     "data": {
      "text/plain": [
       "array([[[1, 2, 3],\n",
       "        [4, 5, 6]],\n",
       "\n",
       "       [[1, 2, 3],\n",
       "        [4, 5, 6]]])"
      ]
     },
     "execution_count": 53,
     "metadata": {},
     "output_type": "execute_result"
    }
   ],
   "source": [
    "array3d[:2,:2]"
   ]
  },
  {
   "cell_type": "code",
   "execution_count": 54,
   "id": "0206f6a3",
   "metadata": {},
   "outputs": [
    {
     "data": {
      "text/plain": [
       "array([[[1, 2, 3]],\n",
       "\n",
       "       [[1, 2, 3]]])"
      ]
     },
     "execution_count": 54,
     "metadata": {},
     "output_type": "execute_result"
    }
   ],
   "source": [
    "array3d[:2,:1]\n",
    "\n"
   ]
  },
  {
   "cell_type": "code",
   "execution_count": 55,
   "id": "7b87b8b9",
   "metadata": {},
   "outputs": [
    {
     "data": {
      "text/plain": [
       "array([[[1, 2]],\n",
       "\n",
       "       [[1, 2]]])"
      ]
     },
     "execution_count": 55,
     "metadata": {},
     "output_type": "execute_result"
    }
   ],
   "source": [
    "array3d[:2,:1,:2]"
   ]
  },
  {
   "cell_type": "code",
   "execution_count": 56,
   "id": "3aaa268e",
   "metadata": {},
   "outputs": [],
   "source": [
    "arandom = np.random.randint(10, size = (3,3)) #2 dimensional"
   ]
  },
  {
   "cell_type": "code",
   "execution_count": 57,
   "id": "b5450a05",
   "metadata": {},
   "outputs": [
    {
     "data": {
      "text/plain": [
       "array([[9, 4, 3],\n",
       "       [0, 3, 5],\n",
       "       [0, 2, 3]])"
      ]
     },
     "execution_count": 57,
     "metadata": {},
     "output_type": "execute_result"
    }
   ],
   "source": [
    "arandom"
   ]
  },
  {
   "cell_type": "code",
   "execution_count": 58,
   "id": "47d69559",
   "metadata": {},
   "outputs": [],
   "source": [
    "a3random = np.random.randint(10, size = (3,3,3)) #3 dimensional"
   ]
  },
  {
   "cell_type": "code",
   "execution_count": 59,
   "id": "ae71e8dc",
   "metadata": {},
   "outputs": [
    {
     "data": {
      "text/plain": [
       "array([[[8, 1, 3],\n",
       "        [3, 3, 7],\n",
       "        [0, 1, 9]],\n",
       "\n",
       "       [[9, 0, 4],\n",
       "        [7, 3, 2],\n",
       "        [7, 2, 0]],\n",
       "\n",
       "       [[0, 4, 5],\n",
       "        [5, 6, 8],\n",
       "        [4, 1, 4]]])"
      ]
     },
     "execution_count": 59,
     "metadata": {},
     "output_type": "execute_result"
    }
   ],
   "source": [
    "a3random "
   ]
  },
  {
   "cell_type": "code",
   "execution_count": 60,
   "id": "9b2d6955",
   "metadata": {},
   "outputs": [],
   "source": [
    "aarandom = np.random.randint(10, size = (3,4,5))"
   ]
  },
  {
   "cell_type": "code",
   "execution_count": 61,
   "id": "2556ce40",
   "metadata": {},
   "outputs": [
    {
     "data": {
      "text/plain": [
       "array([[[9, 8, 1, 1, 7],\n",
       "        [9, 9, 3, 6, 7],\n",
       "        [2, 0, 3, 5, 9],\n",
       "        [4, 4, 6, 4, 4]],\n",
       "\n",
       "       [[3, 4, 4, 8, 4],\n",
       "        [3, 7, 5, 5, 0],\n",
       "        [1, 5, 9, 3, 0],\n",
       "        [5, 0, 1, 2, 4]],\n",
       "\n",
       "       [[2, 0, 3, 2, 0],\n",
       "        [7, 5, 9, 0, 2],\n",
       "        [7, 2, 9, 2, 3],\n",
       "        [3, 2, 3, 4, 1]]])"
      ]
     },
     "execution_count": 61,
     "metadata": {},
     "output_type": "execute_result"
    }
   ],
   "source": [
    "aarandom"
   ]
  },
  {
   "cell_type": "code",
   "execution_count": 62,
   "id": "11829063",
   "metadata": {},
   "outputs": [],
   "source": [
    "arrandom = np.random.randint(10, size = (2,3,4,5))"
   ]
  },
  {
   "cell_type": "code",
   "execution_count": 63,
   "id": "423ae0a1",
   "metadata": {},
   "outputs": [
    {
     "data": {
      "text/plain": [
       "array([[[[2, 9, 1, 4, 6],\n",
       "         [8, 2, 3, 0, 0],\n",
       "         [6, 0, 6, 3, 3],\n",
       "         [8, 8, 8, 2, 3]],\n",
       "\n",
       "        [[2, 0, 8, 8, 3],\n",
       "         [8, 2, 8, 4, 3],\n",
       "         [0, 4, 3, 6, 9],\n",
       "         [8, 0, 8, 5, 9]],\n",
       "\n",
       "        [[0, 9, 6, 5, 3],\n",
       "         [1, 8, 0, 4, 9],\n",
       "         [6, 5, 7, 8, 8],\n",
       "         [9, 2, 8, 6, 6]]],\n",
       "\n",
       "\n",
       "       [[[9, 1, 6, 8, 8],\n",
       "         [3, 2, 3, 6, 3],\n",
       "         [6, 5, 7, 0, 8],\n",
       "         [4, 6, 5, 8, 2]],\n",
       "\n",
       "        [[3, 9, 7, 5, 3],\n",
       "         [4, 5, 3, 3, 7],\n",
       "         [9, 9, 9, 7, 3],\n",
       "         [2, 3, 9, 7, 7]],\n",
       "\n",
       "        [[5, 1, 2, 2, 8],\n",
       "         [1, 5, 8, 4, 0],\n",
       "         [2, 5, 5, 0, 8],\n",
       "         [1, 1, 0, 3, 8]]]])"
      ]
     },
     "execution_count": 63,
     "metadata": {},
     "output_type": "execute_result"
    }
   ],
   "source": [
    "arrandom"
   ]
  },
  {
   "cell_type": "code",
   "execution_count": 64,
   "id": "c7114f99",
   "metadata": {},
   "outputs": [
    {
     "data": {
      "text/plain": [
       "array([[[[2]]]])"
      ]
     },
     "execution_count": 64,
     "metadata": {},
     "output_type": "execute_result"
    }
   ],
   "source": [
    "arrandom[:1,:1,:1,:1]"
   ]
  },
  {
   "cell_type": "markdown",
   "id": "3e4faa9a",
   "metadata": {},
   "source": [
    "## Array Manipulation"
   ]
  },
  {
   "cell_type": "code",
   "execution_count": 65,
   "id": "7d1d2459",
   "metadata": {},
   "outputs": [
    {
     "data": {
      "text/plain": [
       "array([1, 2, 3])"
      ]
     },
     "execution_count": 65,
     "metadata": {},
     "output_type": "execute_result"
    }
   ],
   "source": [
    "array1d\n"
   ]
  },
  {
   "cell_type": "code",
   "execution_count": 66,
   "id": "774ca3ad",
   "metadata": {},
   "outputs": [
    {
     "data": {
      "text/plain": [
       "array([[1., 1., 1.],\n",
       "       [1., 1., 1.]])"
      ]
     },
     "execution_count": 66,
     "metadata": {},
     "output_type": "execute_result"
    }
   ],
   "source": [
    "one"
   ]
  },
  {
   "cell_type": "code",
   "execution_count": 67,
   "id": "0d5d791f",
   "metadata": {},
   "outputs": [
    {
     "data": {
      "text/plain": [
       "array([[2., 3., 4.],\n",
       "       [2., 3., 4.]])"
      ]
     },
     "execution_count": 67,
     "metadata": {},
     "output_type": "execute_result"
    }
   ],
   "source": [
    "array1d+one"
   ]
  },
  {
   "cell_type": "code",
   "execution_count": 68,
   "id": "b52c9ebf",
   "metadata": {},
   "outputs": [
    {
     "data": {
      "text/plain": [
       "array([[0., 1., 2.],\n",
       "       [0., 1., 2.]])"
      ]
     },
     "execution_count": 68,
     "metadata": {},
     "output_type": "execute_result"
    }
   ],
   "source": [
    "array1d - one"
   ]
  },
  {
   "cell_type": "code",
   "execution_count": 69,
   "id": "198acc2b",
   "metadata": {},
   "outputs": [
    {
     "data": {
      "text/plain": [
       "array([[1., 2., 3.],\n",
       "       [1., 2., 3.]])"
      ]
     },
     "execution_count": 69,
     "metadata": {},
     "output_type": "execute_result"
    }
   ],
   "source": [
    "array1d * one"
   ]
  },
  {
   "cell_type": "code",
   "execution_count": 70,
   "id": "be4ffa70",
   "metadata": {},
   "outputs": [
    {
     "data": {
      "text/plain": [
       "array([[0., 0., 0.],\n",
       "       [0., 0., 0.]])"
      ]
     },
     "execution_count": 70,
     "metadata": {},
     "output_type": "execute_result"
    }
   ],
   "source": [
    "array1d % one"
   ]
  },
  {
   "cell_type": "code",
   "execution_count": 71,
   "id": "a861e39c",
   "metadata": {},
   "outputs": [
    {
     "ename": "ValueError",
     "evalue": "operands could not be broadcast together with shapes (2,3) (2,3,3) ",
     "output_type": "error",
     "traceback": [
      "\u001b[1;31m---------------------------------------------------------------------------\u001b[0m",
      "\u001b[1;31mValueError\u001b[0m                                Traceback (most recent call last)",
      "Cell \u001b[1;32mIn[71], line 1\u001b[0m\n\u001b[1;32m----> 1\u001b[0m array2d \u001b[38;5;241m*\u001b[39m array3d\n",
      "\u001b[1;31mValueError\u001b[0m: operands could not be broadcast together with shapes (2,3) (2,3,3) "
     ]
    }
   ],
   "source": [
    "array2d * array3d"
   ]
  },
  {
   "cell_type": "code",
   "execution_count": 72,
   "id": "3985f077",
   "metadata": {},
   "outputs": [
    {
     "data": {
      "text/plain": [
       "array([[1, 2, 3],\n",
       "       [4, 5, 6]])"
      ]
     },
     "execution_count": 72,
     "metadata": {},
     "output_type": "execute_result"
    }
   ],
   "source": [
    "array2d"
   ]
  },
  {
   "cell_type": "code",
   "execution_count": 73,
   "id": "5792362d",
   "metadata": {},
   "outputs": [
    {
     "data": {
      "text/plain": [
       "array([[[1, 2, 3],\n",
       "        [4, 5, 6],\n",
       "        [7, 8, 9]],\n",
       "\n",
       "       [[1, 2, 3],\n",
       "        [4, 5, 6],\n",
       "        [7, 8, 9]]])"
      ]
     },
     "execution_count": 73,
     "metadata": {},
     "output_type": "execute_result"
    }
   ],
   "source": [
    "array3d"
   ]
  },
  {
   "cell_type": "code",
   "execution_count": 74,
   "id": "8a8e79a1",
   "metadata": {},
   "outputs": [],
   "source": [
    "m = array3d[:2,:2,:3]"
   ]
  },
  {
   "cell_type": "code",
   "execution_count": 75,
   "id": "a610f955",
   "metadata": {},
   "outputs": [
    {
     "data": {
      "text/plain": [
       "array([[[1, 2, 3],\n",
       "        [4, 5, 6]],\n",
       "\n",
       "       [[1, 2, 3],\n",
       "        [4, 5, 6]]])"
      ]
     },
     "execution_count": 75,
     "metadata": {},
     "output_type": "execute_result"
    }
   ],
   "source": [
    "m"
   ]
  },
  {
   "cell_type": "code",
   "execution_count": 76,
   "id": "89563a70",
   "metadata": {},
   "outputs": [
    {
     "data": {
      "text/plain": [
       "array([[[ 1,  4,  9],\n",
       "        [16, 25, 36]],\n",
       "\n",
       "       [[ 1,  4,  9],\n",
       "        [16, 25, 36]]])"
      ]
     },
     "execution_count": 76,
     "metadata": {},
     "output_type": "execute_result"
    }
   ],
   "source": [
    " array2d * m"
   ]
  },
  {
   "cell_type": "code",
   "execution_count": 77,
   "id": "7bcf5422",
   "metadata": {},
   "outputs": [
    {
     "data": {
      "text/plain": [
       "array([[1., 2., 3.],\n",
       "       [1., 2., 3.]])"
      ]
     },
     "execution_count": 77,
     "metadata": {},
     "output_type": "execute_result"
    }
   ],
   "source": [
    "array1d/one"
   ]
  },
  {
   "cell_type": "code",
   "execution_count": 78,
   "id": "72ec5f5c",
   "metadata": {},
   "outputs": [
    {
     "data": {
      "text/plain": [
       "array([[1., 2., 3.],\n",
       "       [1., 2., 3.]])"
      ]
     },
     "execution_count": 78,
     "metadata": {},
     "output_type": "execute_result"
    }
   ],
   "source": [
    "array1d//one"
   ]
  },
  {
   "cell_type": "code",
   "execution_count": 79,
   "id": "c35ee031",
   "metadata": {},
   "outputs": [
    {
     "data": {
      "text/plain": [
       "array([[1, 1, 1],\n",
       "       [0, 0, 0]])"
      ]
     },
     "execution_count": 79,
     "metadata": {},
     "output_type": "execute_result"
    }
   ],
   "source": [
    "array1d//array2d"
   ]
  },
  {
   "cell_type": "code",
   "execution_count": 80,
   "id": "f75c1e20",
   "metadata": {},
   "outputs": [
    {
     "data": {
      "text/plain": [
       "array([[ 1,  4,  9],\n",
       "       [16, 25, 36]])"
      ]
     },
     "execution_count": 80,
     "metadata": {},
     "output_type": "execute_result"
    }
   ],
   "source": [
    "array2d**2"
   ]
  },
  {
   "cell_type": "code",
   "execution_count": 81,
   "id": "867107be",
   "metadata": {},
   "outputs": [
    {
     "data": {
      "text/plain": [
       "array([[ 1,  4,  9],\n",
       "       [16, 25, 36]])"
      ]
     },
     "execution_count": 81,
     "metadata": {},
     "output_type": "execute_result"
    }
   ],
   "source": [
    "np.square(array2d)"
   ]
  },
  {
   "cell_type": "code",
   "execution_count": 82,
   "id": "5874c771",
   "metadata": {},
   "outputs": [
    {
     "data": {
      "text/plain": [
       "array([[2, 4, 6],\n",
       "       [5, 7, 9]])"
      ]
     },
     "execution_count": 82,
     "metadata": {},
     "output_type": "execute_result"
    }
   ],
   "source": [
    "np.add(array1d,array2d)"
   ]
  },
  {
   "cell_type": "code",
   "execution_count": 83,
   "id": "b7625ede",
   "metadata": {},
   "outputs": [
    {
     "data": {
      "text/plain": [
       "array([[[1, 0, 1],\n",
       "        [0, 1, 0],\n",
       "        [1, 0, 1]],\n",
       "\n",
       "       [[1, 0, 1],\n",
       "        [0, 1, 0],\n",
       "        [1, 0, 1]]], dtype=int32)"
      ]
     },
     "execution_count": 83,
     "metadata": {},
     "output_type": "execute_result"
    }
   ],
   "source": [
    "array3d%2"
   ]
  },
  {
   "cell_type": "markdown",
   "id": "107aacc8",
   "metadata": {},
   "source": [
    "## AGGREGATIONS  "
   ]
  },
  {
   "cell_type": "code",
   "execution_count": 84,
   "id": "9fe7e463",
   "metadata": {},
   "outputs": [],
   "source": [
    "# mjy lmbi bt na bta sidha SIDHA YE BTA TOTAL KITNY BNY, LAST SET OF DATA MJY NA DY MJY SUM NIKAL K DEDY\n"
   ]
  },
  {
   "cell_type": "code",
   "execution_count": 85,
   "id": "9a8eda75",
   "metadata": {},
   "outputs": [
    {
     "data": {
      "text/plain": [
       "array([1, 2, 3])"
      ]
     },
     "execution_count": 85,
     "metadata": {},
     "output_type": "execute_result"
    }
   ],
   "source": [
    "array1d"
   ]
  },
  {
   "cell_type": "code",
   "execution_count": 86,
   "id": "33b21e35",
   "metadata": {},
   "outputs": [
    {
     "data": {
      "text/plain": [
       "6"
      ]
     },
     "execution_count": 86,
     "metadata": {},
     "output_type": "execute_result"
    }
   ],
   "source": [
    "sum(array1d) #lmbi bt na bta bs ye bta total kitna bnta h\n",
    "\n",
    "## This is python method and also slower"
   ]
  },
  {
   "cell_type": "code",
   "execution_count": 87,
   "id": "326998f2",
   "metadata": {},
   "outputs": [
    {
     "data": {
      "text/plain": [
       "6"
      ]
     },
     "execution_count": 87,
     "metadata": {},
     "output_type": "execute_result"
    }
   ],
   "source": [
    "np.sum(array1d) ## This is numpy method and also faster"
   ]
  },
  {
   "cell_type": "code",
   "execution_count": 88,
   "id": "84f27859",
   "metadata": {},
   "outputs": [],
   "source": [
    "#Example\n",
    "lambi_array = np.random.random(10000)"
   ]
  },
  {
   "cell_type": "code",
   "execution_count": 89,
   "id": "4c41bc7d",
   "metadata": {},
   "outputs": [
    {
     "data": {
      "text/plain": [
       "array([0.05037006, 0.69909807, 0.9923964 , ..., 0.2128151 , 0.08552944,\n",
       "       0.77890462])"
      ]
     },
     "execution_count": 89,
     "metadata": {},
     "output_type": "execute_result"
    }
   ],
   "source": [
    "lambi_array\n"
   ]
  },
  {
   "cell_type": "code",
   "execution_count": 90,
   "id": "bc2786b3",
   "metadata": {},
   "outputs": [
    {
     "data": {
      "text/plain": [
       "10000"
      ]
     },
     "execution_count": 90,
     "metadata": {},
     "output_type": "execute_result"
    }
   ],
   "source": [
    "lambi_array.size\n"
   ]
  },
  {
   "cell_type": "code",
   "execution_count": 91,
   "id": "185aa11c",
   "metadata": {},
   "outputs": [
    {
     "data": {
      "text/plain": [
       "array([0.05037006, 0.69909807, 0.9923964 , 0.26726254, 0.67909062,\n",
       "       0.86428144, 0.75084425, 0.96448977, 0.55424244, 0.2123905 ,\n",
       "       0.22244322, 0.21874937, 0.56957353, 0.45210904, 0.97023668,\n",
       "       0.68054469, 0.08529557, 0.05641833, 0.4878377 , 0.88100456])"
      ]
     },
     "execution_count": 91,
     "metadata": {},
     "output_type": "execute_result"
    }
   ],
   "source": [
    "lambi_array[:20]"
   ]
  },
  {
   "cell_type": "code",
   "execution_count": 92,
   "id": "6bf27244",
   "metadata": {},
   "outputs": [
    {
     "data": {
      "text/plain": [
       "5010.21298265909"
      ]
     },
     "execution_count": 92,
     "metadata": {},
     "output_type": "execute_result"
    }
   ],
   "source": [
    "np.sum(lambi_array)"
   ]
  },
  {
   "cell_type": "code",
   "execution_count": 93,
   "id": "0ca51961",
   "metadata": {},
   "outputs": [
    {
     "name": "stdout",
     "output_type": "stream",
     "text": [
      "2.19 ms ± 387 µs per loop (mean ± std. dev. of 7 runs, 1,000 loops each)\n",
      "18 µs ± 678 ns per loop (mean ± std. dev. of 7 runs, 100,000 loops each)\n"
     ]
    }
   ],
   "source": [
    "%timeit sum(lambi_array) #python \n",
    "%timeit np.sum(lambi_array) #numpy"
   ]
  },
  {
   "cell_type": "code",
   "execution_count": 94,
   "id": "0724da86",
   "metadata": {},
   "outputs": [
    {
     "data": {
      "text/plain": [
       "3"
      ]
     },
     "execution_count": 94,
     "metadata": {},
     "output_type": "execute_result"
    }
   ],
   "source": [
    "np.max(array1d)"
   ]
  },
  {
   "cell_type": "code",
   "execution_count": 95,
   "id": "6de1f5ba",
   "metadata": {},
   "outputs": [
    {
     "data": {
      "text/plain": [
       "0.9999709462497284"
      ]
     },
     "execution_count": 95,
     "metadata": {},
     "output_type": "execute_result"
    }
   ],
   "source": [
    "np.max(lambi_array)"
   ]
  },
  {
   "cell_type": "code",
   "execution_count": 96,
   "id": "91af4342",
   "metadata": {},
   "outputs": [
    {
     "data": {
      "text/plain": [
       "2.0027530115096503e-05"
      ]
     },
     "execution_count": 96,
     "metadata": {},
     "output_type": "execute_result"
    }
   ],
   "source": [
    "np.min(lambi_array)"
   ]
  },
  {
   "cell_type": "markdown",
   "id": "a692961b",
   "metadata": {},
   "source": [
    "# mean\n",
    "# variance\n",
    "# standard deviation"
   ]
  },
  {
   "cell_type": "code",
   "execution_count": 97,
   "id": "136cb6a3",
   "metadata": {},
   "outputs": [],
   "source": [
    "# ap dukandar k ps gye usnny bola ye 100 rupy ka hai apny bola 50 dunga to behas k bd bola \"\"MEAN\"\" lelety hn to 75 rupy hogye "
   ]
  },
  {
   "cell_type": "code",
   "execution_count": 98,
   "id": "0e953cc4",
   "metadata": {},
   "outputs": [],
   "source": [
    "# ek point mean se kitna duur bhatka hua h similarly on average saary points mean value se kitnba duur bhatky hue hn isko \"\"VARIANCE\"\" kehty hn"
   ]
  },
  {
   "cell_type": "code",
   "execution_count": 99,
   "id": "95135730",
   "metadata": {},
   "outputs": [],
   "source": [
    "# Variance k square root ko STANDARD DEVIATION kehty hn, square root leny ki kch wajuhat hoti hn jesy ap chahty ho apki value hmesha positive ae jesy TIME"
   ]
  },
  {
   "cell_type": "code",
   "execution_count": 100,
   "id": "dfd5e89f",
   "metadata": {},
   "outputs": [
    {
     "data": {
      "text/plain": [
       "2.0"
      ]
     },
     "execution_count": 100,
     "metadata": {},
     "output_type": "execute_result"
    }
   ],
   "source": [
    "np.mean(array1d)# mean"
   ]
  },
  {
   "cell_type": "code",
   "execution_count": 101,
   "id": "9c331077",
   "metadata": {},
   "outputs": [
    {
     "data": {
      "text/plain": [
       "0.6666666666666666"
      ]
     },
     "execution_count": 101,
     "metadata": {},
     "output_type": "execute_result"
    }
   ],
   "source": [
    "np.var(array1d) # variance"
   ]
  },
  {
   "cell_type": "code",
   "execution_count": 102,
   "id": "15954c37",
   "metadata": {},
   "outputs": [
    {
     "data": {
      "text/plain": [
       "0.816496580927726"
      ]
     },
     "execution_count": 102,
     "metadata": {},
     "output_type": "execute_result"
    }
   ],
   "source": [
    "np.sqrt(np.var(array1d)) # standard deviation"
   ]
  },
  {
   "cell_type": "code",
   "execution_count": 103,
   "id": "eb062881",
   "metadata": {},
   "outputs": [
    {
     "data": {
      "text/plain": [
       "0.816496580927726"
      ]
     },
     "execution_count": 103,
     "metadata": {},
     "output_type": "execute_result"
    }
   ],
   "source": [
    "np.std(array1d)  # standard deviation"
   ]
  },
  {
   "cell_type": "markdown",
   "id": "0d451069",
   "metadata": {},
   "source": [
    "## Matrix Manipulation"
   ]
  },
  {
   "cell_type": "code",
   "execution_count": 104,
   "id": "f1cfa5bf",
   "metadata": {},
   "outputs": [],
   "source": [
    "# Dot Product vs Element wise manipulation"
   ]
  },
  {
   "cell_type": "code",
   "execution_count": 105,
   "id": "4f18c70c",
   "metadata": {},
   "outputs": [],
   "source": [
    "np.random.seed(seed=0)\n",
    "matrix_1 = np.random.randint(10, size=(4,3))\n",
    "matrix_2 = np.random.randint(10, size=(4,3))"
   ]
  },
  {
   "cell_type": "code",
   "execution_count": 106,
   "id": "6033e4ad",
   "metadata": {},
   "outputs": [
    {
     "data": {
      "text/plain": [
       "array([[5, 0, 3],\n",
       "       [3, 7, 9],\n",
       "       [3, 5, 2],\n",
       "       [4, 7, 6]])"
      ]
     },
     "execution_count": 106,
     "metadata": {},
     "output_type": "execute_result"
    }
   ],
   "source": [
    "matrix_1"
   ]
  },
  {
   "cell_type": "code",
   "execution_count": 107,
   "id": "23bb5588",
   "metadata": {},
   "outputs": [
    {
     "data": {
      "text/plain": [
       "array([[8, 8, 1],\n",
       "       [6, 7, 7],\n",
       "       [8, 1, 5],\n",
       "       [9, 8, 9]])"
      ]
     },
     "execution_count": 107,
     "metadata": {},
     "output_type": "execute_result"
    }
   ],
   "source": [
    "matrix_2"
   ]
  },
  {
   "cell_type": "code",
   "execution_count": 108,
   "id": "617e0142",
   "metadata": {},
   "outputs": [
    {
     "data": {
      "text/plain": [
       "array([[40,  0,  3],\n",
       "       [18, 49, 63],\n",
       "       [24,  5, 10],\n",
       "       [36, 56, 54]])"
      ]
     },
     "execution_count": 108,
     "metadata": {},
     "output_type": "execute_result"
    }
   ],
   "source": [
    "matrix_1*matrix_2 #lemment Wise Multiplication"
   ]
  },
  {
   "cell_type": "markdown",
   "id": "43621d44",
   "metadata": {},
   "source": [
    "## Dot Product"
   ]
  },
  {
   "cell_type": "code",
   "execution_count": 109,
   "id": "849baad6",
   "metadata": {},
   "outputs": [
    {
     "ename": "ValueError",
     "evalue": "shapes (4,3) and (4,3) not aligned: 3 (dim 1) != 4 (dim 0)",
     "output_type": "error",
     "traceback": [
      "\u001b[1;31m---------------------------------------------------------------------------\u001b[0m",
      "\u001b[1;31mValueError\u001b[0m                                Traceback (most recent call last)",
      "Cell \u001b[1;32mIn[109], line 1\u001b[0m\n\u001b[1;32m----> 1\u001b[0m matrix_1\u001b[38;5;241m.\u001b[39mdot(matrix_2)\n",
      "\u001b[1;31mValueError\u001b[0m: shapes (4,3) and (4,3) not aligned: 3 (dim 1) != 4 (dim 0)"
     ]
    }
   ],
   "source": [
    "matrix_1.dot(matrix_2)"
   ]
  },
  {
   "cell_type": "code",
   "execution_count": null,
   "id": "80bcda30",
   "metadata": {},
   "outputs": [],
   "source": [
    "# column and rows are not equal (4,3) & (4,3) \n",
    "#its solution is transpose"
   ]
  },
  {
   "cell_type": "code",
   "execution_count": null,
   "id": "343e7216",
   "metadata": {},
   "outputs": [],
   "source": [
    "matrix_1.dot(matrix_2.T) #TRANSPOSE swaps rows into column and column into rows"
   ]
  },
  {
   "cell_type": "code",
   "execution_count": null,
   "id": "17750013",
   "metadata": {},
   "outputs": [],
   "source": [
    "matrix_1.dot(matrix_2.T).shape"
   ]
  },
  {
   "cell_type": "markdown",
   "id": "74571f11",
   "metadata": {},
   "source": [
    "## matrix_2.shape"
   ]
  },
  {
   "cell_type": "markdown",
   "id": "25e98162",
   "metadata": {},
   "source": [
    "## Reshape and Transpose"
   ]
  },
  {
   "cell_type": "code",
   "execution_count": null,
   "id": "95ad2f26",
   "metadata": {},
   "outputs": [],
   "source": [
    "#TRANSPOSE swwaps rows into column and column into rows"
   ]
  },
  {
   "cell_type": "code",
   "execution_count": null,
   "id": "49e4841b",
   "metadata": {},
   "outputs": [],
   "source": [
    "array2d.shape"
   ]
  },
  {
   "cell_type": "code",
   "execution_count": null,
   "id": "cc3b74f2",
   "metadata": {},
   "outputs": [],
   "source": [
    "array2d.T.shape"
   ]
  },
  {
   "cell_type": "code",
   "execution_count": null,
   "id": "a2862f2a",
   "metadata": {},
   "outputs": [],
   "source": [
    "#We can change dimension of matrix artificially "
   ]
  },
  {
   "cell_type": "code",
   "execution_count": null,
   "id": "01151946",
   "metadata": {},
   "outputs": [],
   "source": [
    "#Reshape\n",
    "array2d.reshape(2,3,1)"
   ]
  },
  {
   "cell_type": "code",
   "execution_count": null,
   "id": "c8167e33",
   "metadata": {},
   "outputs": [],
   "source": [
    "array2d.reshape(2,3,1).shape"
   ]
  },
  {
   "cell_type": "code",
   "execution_count": null,
   "id": "acdb01f6",
   "metadata": {},
   "outputs": [],
   "source": [
    "#EXERCISE\n",
    "np.random.seed(seed=0)\n",
    "Item_amount = np.random.randint(20,size=(5,3))\n",
    "Item_amount"
   ]
  },
  {
   "cell_type": "code",
   "execution_count": null,
   "id": "cf522e21",
   "metadata": {},
   "outputs": [],
   "source": [
    "Item_price = np.array([11,12,9])\n",
    "Item_price"
   ]
  },
  {
   "cell_type": "code",
   "execution_count": null,
   "id": "dff8dc2d",
   "metadata": {},
   "outputs": [],
   "source": [
    "Item_Price_dataframe = pd.DataFrame(Item_price.reshape(1,3),\n",
    "                                    index = ['Item_price'],\n",
    "                                    columns = ['Item1', 'Item2', 'Item3'])"
   ]
  },
  {
   "cell_type": "code",
   "execution_count": null,
   "id": "decf929d",
   "metadata": {},
   "outputs": [],
   "source": [
    "Item_Price_dataframe"
   ]
  },
  {
   "cell_type": "code",
   "execution_count": null,
   "id": "93c73546",
   "metadata": {},
   "outputs": [],
   "source": [
    "Total = Item_amount.dot(Item_price.reshape(4,4))"
   ]
  },
  {
   "cell_type": "code",
   "execution_count": null,
   "id": "ccd6a801",
   "metadata": {},
   "outputs": [],
   "source": [
    "Item_Price_dataframe.shape , Item_amount.shape"
   ]
  },
  {
   "cell_type": "code",
   "execution_count": null,
   "id": "41a6ce5c",
   "metadata": {},
   "outputs": [],
   "source": [
    "Total = Item_Price_dataframe.dot(Item_amount.T)"
   ]
  },
  {
   "cell_type": "code",
   "execution_count": null,
   "id": "d98b510d",
   "metadata": {},
   "outputs": [],
   "source": [
    "Total"
   ]
  },
  {
   "cell_type": "code",
   "execution_count": null,
   "id": "1097708c",
   "metadata": {},
   "outputs": [],
   "source": [
    "weekly_sales = pd.DataFrame(Item_amount,index=['Mon','Tue','Wed','Thu','Fri'],columns=['Item1', 'Item2', 'Item3'])"
   ]
  },
  {
   "cell_type": "code",
   "execution_count": null,
   "id": "67e22e08",
   "metadata": {},
   "outputs": [],
   "source": [
    "weekly_sales"
   ]
  },
  {
   "cell_type": "code",
   "execution_count": null,
   "id": "303cc141",
   "metadata": {},
   "outputs": [],
   "source": [
    "weekly_sales['item_price']=Total.T"
   ]
  },
  {
   "cell_type": "code",
   "execution_count": null,
   "id": "9d18242e",
   "metadata": {},
   "outputs": [],
   "source": [
    "weekly_sales"
   ]
  },
  {
   "cell_type": "markdown",
   "id": "1bf1d927",
   "metadata": {},
   "source": [
    "## Comparison Operator"
   ]
  },
  {
   "cell_type": "code",
   "execution_count": null,
   "id": "77e985cf",
   "metadata": {},
   "outputs": [],
   "source": [
    "array1d"
   ]
  },
  {
   "cell_type": "code",
   "execution_count": null,
   "id": "fddc8895",
   "metadata": {},
   "outputs": [],
   "source": [
    "array2d"
   ]
  },
  {
   "cell_type": "code",
   "execution_count": null,
   "id": "50e06817",
   "metadata": {},
   "outputs": [],
   "source": [
    "array1d>array2d"
   ]
  },
  {
   "cell_type": "code",
   "execution_count": null,
   "id": "2354e7c6",
   "metadata": {},
   "outputs": [],
   "source": [
    "a1d = np.array([10,20,1])"
   ]
  },
  {
   "cell_type": "code",
   "execution_count": null,
   "id": "cb1ed790",
   "metadata": {},
   "outputs": [],
   "source": [
    "a1d"
   ]
  },
  {
   "cell_type": "code",
   "execution_count": null,
   "id": "d3027fb2",
   "metadata": {},
   "outputs": [],
   "source": [
    "a1d>array2d"
   ]
  },
  {
   "cell_type": "code",
   "execution_count": null,
   "id": "ea7678a4",
   "metadata": {},
   "outputs": [],
   "source": [
    "array1d == a1d"
   ]
  },
  {
   "cell_type": "code",
   "execution_count": null,
   "id": "be1496b1",
   "metadata": {},
   "outputs": [],
   "source": [
    "array1d == array2d"
   ]
  },
  {
   "cell_type": "code",
   "execution_count": null,
   "id": "8640ade6",
   "metadata": {},
   "outputs": [],
   "source": [
    "array1d != array2d"
   ]
  },
  {
   "cell_type": "code",
   "execution_count": null,
   "id": "01299d91",
   "metadata": {},
   "outputs": [],
   "source": [
    "array1d < array2d"
   ]
  },
  {
   "cell_type": "code",
   "execution_count": null,
   "id": "9600abec",
   "metadata": {},
   "outputs": [],
   "source": [
    "array1d <= array2d"
   ]
  },
  {
   "cell_type": "code",
   "execution_count": null,
   "id": "797f0ac9",
   "metadata": {},
   "outputs": [],
   "source": [
    "array1d >= array2d"
   ]
  },
  {
   "cell_type": "markdown",
   "id": "ada50220",
   "metadata": {},
   "source": [
    "## Sorting Array"
   ]
  },
  {
   "cell_type": "code",
   "execution_count": null,
   "id": "6b25180f",
   "metadata": {},
   "outputs": [],
   "source": [
    "random_matrix = np.random.randint(10, size=(3,5))"
   ]
  },
  {
   "cell_type": "code",
   "execution_count": null,
   "id": "8a71ffa6",
   "metadata": {},
   "outputs": [],
   "source": [
    "random_matrix"
   ]
  },
  {
   "cell_type": "code",
   "execution_count": null,
   "id": "c19b3fd9",
   "metadata": {},
   "outputs": [],
   "source": [
    "#I have to arrange array in ascending or descending order or whatever so\n"
   ]
  },
  {
   "cell_type": "code",
   "execution_count": null,
   "id": "f6aa3eba",
   "metadata": {},
   "outputs": [],
   "source": [
    "np.sort(random_matrix,axis = 1) #axis = 1 means sorting out rows... its default"
   ]
  },
  {
   "cell_type": "code",
   "execution_count": null,
   "id": "29bde375",
   "metadata": {},
   "outputs": [],
   "source": [
    "np.sort(random_matrix,axis = 0) #axis = 0 means sorting out column"
   ]
  },
  {
   "cell_type": "code",
   "execution_count": null,
   "id": "befdacaf",
   "metadata": {},
   "outputs": [],
   "source": [
    "np.argsort(random_matrix)"
   ]
  },
  {
   "cell_type": "code",
   "execution_count": null,
   "id": "50f78311",
   "metadata": {},
   "outputs": [],
   "source": [
    "random_matrix"
   ]
  },
  {
   "cell_type": "code",
   "execution_count": null,
   "id": "adfc17c0",
   "metadata": {},
   "outputs": [],
   "source": [
    "np.argmin(random_matrix, axis=1)"
   ]
  },
  {
   "cell_type": "code",
   "execution_count": null,
   "id": "23a40df4",
   "metadata": {},
   "outputs": [],
   "source": [
    "np.min(random_matrix)"
   ]
  },
  {
   "cell_type": "code",
   "execution_count": null,
   "id": "e08add74",
   "metadata": {},
   "outputs": [],
   "source": [
    "np.argmax(random_matrix, axis=1)"
   ]
  },
  {
   "cell_type": "code",
   "execution_count": null,
   "id": "5052550e",
   "metadata": {},
   "outputs": [],
   "source": [
    "np.argmax(random_matrix, axis=0)"
   ]
  },
  {
   "cell_type": "markdown",
   "id": "7c547dec",
   "metadata": {},
   "source": [
    "## Image Data Read"
   ]
  },
  {
   "cell_type": "code",
   "execution_count": null,
   "id": "8c7acadf",
   "metadata": {},
   "outputs": [],
   "source": [
    "#from matplotlib.image import imread"
   ]
  },
  {
   "cell_type": "code",
   "execution_count": null,
   "id": "d9b1ff04",
   "metadata": {},
   "outputs": [],
   "source": [
    "img_data = imread('WhatsApp Image 2023-05-19 at 01.49.08 (3).jpeg')"
   ]
  },
  {
   "cell_type": "code",
   "execution_count": null,
   "id": "926348c3",
   "metadata": {},
   "outputs": [],
   "source": [
    "img_data #pixel value of this image"
   ]
  },
  {
   "cell_type": "code",
   "execution_count": null,
   "id": "b1a725f2",
   "metadata": {},
   "outputs": [],
   "source": [
    "from matplotlib.pyplot as plt"
   ]
  },
  {
   "cell_type": "code",
   "execution_count": null,
   "id": "97058174",
   "metadata": {},
   "outputs": [],
   "source": [
    "from matplotlib as mpl"
   ]
  },
  {
   "cell_type": "code",
   "execution_count": null,
   "id": "cabd93d7",
   "metadata": {},
   "outputs": [],
   "source": []
  },
  {
   "cell_type": "code",
   "execution_count": null,
   "id": "1c4894dd",
   "metadata": {},
   "outputs": [],
   "source": [
    "np.shape(a1d)"
   ]
  },
  {
   "cell_type": "code",
   "execution_count": null,
   "id": "0364d924",
   "metadata": {},
   "outputs": [],
   "source": []
  },
  {
   "cell_type": "code",
   "execution_count": null,
   "id": "14764233",
   "metadata": {},
   "outputs": [],
   "source": [
    "np.a1d_shape()"
   ]
  },
  {
   "cell_type": "code",
   "execution_count": null,
   "id": "a68519f9",
   "metadata": {},
   "outputs": [],
   "source": []
  },
  {
   "cell_type": "code",
   "execution_count": null,
   "id": "1e70ae97",
   "metadata": {},
   "outputs": [],
   "source": []
  },
  {
   "cell_type": "code",
   "execution_count": null,
   "id": "37b8d5dd",
   "metadata": {},
   "outputs": [],
   "source": []
  },
  {
   "cell_type": "code",
   "execution_count": null,
   "id": "efc6b932",
   "metadata": {},
   "outputs": [],
   "source": []
  },
  {
   "cell_type": "code",
   "execution_count": null,
   "id": "7da46101",
   "metadata": {},
   "outputs": [],
   "source": []
  },
  {
   "cell_type": "code",
   "execution_count": null,
   "id": "dee0351c",
   "metadata": {},
   "outputs": [],
   "source": []
  },
  {
   "cell_type": "code",
   "execution_count": null,
   "id": "654f481c",
   "metadata": {},
   "outputs": [],
   "source": []
  },
  {
   "cell_type": "code",
   "execution_count": null,
   "id": "789c5180",
   "metadata": {},
   "outputs": [],
   "source": []
  },
  {
   "cell_type": "code",
   "execution_count": null,
   "id": "6d69180a",
   "metadata": {},
   "outputs": [],
   "source": []
  },
  {
   "cell_type": "code",
   "execution_count": null,
   "id": "75fb80ce",
   "metadata": {},
   "outputs": [],
   "source": []
  },
  {
   "cell_type": "code",
   "execution_count": null,
   "id": "6df591a4",
   "metadata": {},
   "outputs": [],
   "source": []
  },
  {
   "cell_type": "code",
   "execution_count": null,
   "id": "9973a199",
   "metadata": {},
   "outputs": [],
   "source": []
  },
  {
   "cell_type": "code",
   "execution_count": null,
   "id": "4b2f8254",
   "metadata": {},
   "outputs": [],
   "source": []
  },
  {
   "cell_type": "code",
   "execution_count": null,
   "id": "2fe8dc5f",
   "metadata": {},
   "outputs": [],
   "source": []
  },
  {
   "cell_type": "code",
   "execution_count": null,
   "id": "b4363524",
   "metadata": {},
   "outputs": [],
   "source": []
  },
  {
   "cell_type": "code",
   "execution_count": null,
   "id": "eb7e0cbc",
   "metadata": {},
   "outputs": [],
   "source": []
  },
  {
   "cell_type": "code",
   "execution_count": null,
   "id": "180a0f78",
   "metadata": {},
   "outputs": [],
   "source": []
  },
  {
   "cell_type": "code",
   "execution_count": null,
   "id": "f39313d2",
   "metadata": {},
   "outputs": [],
   "source": []
  },
  {
   "cell_type": "code",
   "execution_count": null,
   "id": "8e4bf755",
   "metadata": {},
   "outputs": [],
   "source": []
  },
  {
   "cell_type": "code",
   "execution_count": null,
   "id": "dc4988e0",
   "metadata": {},
   "outputs": [],
   "source": []
  },
  {
   "cell_type": "code",
   "execution_count": null,
   "id": "3907a2c8",
   "metadata": {},
   "outputs": [],
   "source": []
  },
  {
   "cell_type": "code",
   "execution_count": null,
   "id": "499d1d0f",
   "metadata": {},
   "outputs": [],
   "source": []
  },
  {
   "cell_type": "code",
   "execution_count": null,
   "id": "1dceb93e",
   "metadata": {},
   "outputs": [],
   "source": []
  },
  {
   "cell_type": "code",
   "execution_count": null,
   "id": "638d8144",
   "metadata": {},
   "outputs": [],
   "source": []
  },
  {
   "cell_type": "code",
   "execution_count": null,
   "id": "10202f51",
   "metadata": {},
   "outputs": [],
   "source": []
  },
  {
   "cell_type": "code",
   "execution_count": null,
   "id": "502269b4",
   "metadata": {},
   "outputs": [],
   "source": []
  },
  {
   "cell_type": "code",
   "execution_count": null,
   "id": "9cce119f",
   "metadata": {},
   "outputs": [],
   "source": []
  },
  {
   "cell_type": "code",
   "execution_count": null,
   "id": "1601601c",
   "metadata": {},
   "outputs": [],
   "source": []
  },
  {
   "cell_type": "code",
   "execution_count": null,
   "id": "d5df6af6",
   "metadata": {},
   "outputs": [],
   "source": []
  },
  {
   "cell_type": "code",
   "execution_count": null,
   "id": "9568c61c",
   "metadata": {},
   "outputs": [],
   "source": []
  },
  {
   "cell_type": "code",
   "execution_count": null,
   "id": "78ced662",
   "metadata": {},
   "outputs": [],
   "source": []
  },
  {
   "cell_type": "code",
   "execution_count": null,
   "id": "2e9648af",
   "metadata": {},
   "outputs": [],
   "source": []
  },
  {
   "cell_type": "code",
   "execution_count": null,
   "id": "48af99c9",
   "metadata": {},
   "outputs": [],
   "source": []
  },
  {
   "cell_type": "code",
   "execution_count": null,
   "id": "31ade6d9",
   "metadata": {},
   "outputs": [],
   "source": []
  },
  {
   "cell_type": "code",
   "execution_count": null,
   "id": "98cd12c9",
   "metadata": {},
   "outputs": [],
   "source": []
  },
  {
   "cell_type": "code",
   "execution_count": null,
   "id": "d25c5be0",
   "metadata": {},
   "outputs": [],
   "source": []
  },
  {
   "cell_type": "code",
   "execution_count": null,
   "id": "82bc6d1f",
   "metadata": {},
   "outputs": [],
   "source": []
  },
  {
   "cell_type": "code",
   "execution_count": null,
   "id": "053a2def",
   "metadata": {},
   "outputs": [],
   "source": []
  },
  {
   "cell_type": "code",
   "execution_count": null,
   "id": "cceacaf8",
   "metadata": {},
   "outputs": [],
   "source": []
  },
  {
   "cell_type": "code",
   "execution_count": null,
   "id": "72ac38cf",
   "metadata": {},
   "outputs": [],
   "source": []
  },
  {
   "cell_type": "code",
   "execution_count": null,
   "id": "3b97df72",
   "metadata": {},
   "outputs": [],
   "source": []
  },
  {
   "cell_type": "code",
   "execution_count": null,
   "id": "a33a334d",
   "metadata": {},
   "outputs": [],
   "source": []
  }
 ],
 "metadata": {
  "kernelspec": {
   "display_name": "Python 3 (ipykernel)",
   "language": "python",
   "name": "python3"
  },
  "language_info": {
   "codemirror_mode": {
    "name": "ipython",
    "version": 3
   },
   "file_extension": ".py",
   "mimetype": "text/x-python",
   "name": "python",
   "nbconvert_exporter": "python",
   "pygments_lexer": "ipython3",
   "version": "3.11.4"
  }
 },
 "nbformat": 4,
 "nbformat_minor": 5
}
